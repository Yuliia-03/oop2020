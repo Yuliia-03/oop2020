{
 "cells": [
  {
   "cell_type": "markdown",
   "metadata": {},
   "source": [
    "##  ІЗ_7\n",
    "\n",
    "## Парсинг сайту новин\n",
    "    1. Провести парсинг сайту новин за тематикою власних інтересів. \n",
    "    2. Завантажити текст новин до файлу типу *txt. Зразок надається - файл news.txt\n",
    "    3. У процесі захисту звернути увагу на реалізацію власних інноваційних рішень у процесі виконання ІЗ_7\n",
    "    "
   ]
  },
  {
   "cell_type": "code",
   "execution_count": null,
   "metadata": {},
   "outputs": [],
   "source": []
  }
 ],
 "metadata": {
  "kernelspec": {
   "display_name": "Python 3",
   "language": "python",
   "name": "python3"
  },
  "language_info": {
   "codemirror_mode": {
    "name": "ipython",
    "version": 3
   },
   "file_extension": ".py",
   "mimetype": "text/x-python",
   "name": "python",
   "nbconvert_exporter": "python",
   "pygments_lexer": "ipython3",
   "version": "3.7.6"
  }
 },
 "nbformat": 4,
 "nbformat_minor": 4
}
