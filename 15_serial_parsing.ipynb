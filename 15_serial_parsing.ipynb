{
 "cells": [
  {
   "cell_type": "markdown",
   "metadata": {},
   "source": [
    "# Індивідуальне завдання №6\n",
    "\n",
    "### Зробити Із_6:\n",
    "    1. Розробити на основі ООП. \n",
    "    2. Задати запитання \n",
    "    3. Перевірка наданої відповіді на коректніть (у відповідності до запитань завантаженої по API бази запитань \n",
    "    https://opentdb.com/ ) \n",
    "    4. Чи останнє задане запитання. \n",
    "    5. Підрахувати коректні бали\n",
    "    6. Захист на основі API, яке буде надане викладачем безпосередньо перед захистом "
   ]
  },
  {
   "cell_type": "code",
   "execution_count": 1,
   "metadata": {},
   "outputs": [
    {
     "name": "stdout",
     "output_type": "stream",
     "text": [
      "Q.1: 5-ий Стандарт мови розмітки гіпертексту  HTML5 був оприлюднений у 2014 році (Y/N): y\n",
      "Ви абсолютно праві!\n",
      "Коректною відповіддю є: Y.\n",
      "Ваша правильна кількість балів : 1/1\n",
      "\n",
      "\n",
      "Q.2: Перша помилка комп'ютера була ініційована несправними проводами (Y/N): y\n",
      "Це не вірно!\n",
      "Коректною відповіддю є: N.\n",
      "Ваша правильна кількість балів : 1/2\n",
      "\n",
      "\n",
      "Q.3: FLAC є скороченою назвою 'вільний аудіокодек без втрат'. (Y/N): y\n",
      "Ви абсолютно праві!\n",
      "Коректною відповіддю є: Y.\n",
      "Ваша правильна кількість балів : 2/3\n",
      "\n",
      "\n",
      "Q.4: В системі Windows коди програм можуть бути скомпілованими в *.EXE файли. Потім, цей файл може бути виконаний на будь-якої машині (Y/N): y\n",
      "Це не вірно!\n",
      "Коректною відповіддю є: N.\n",
      "Ваша правильна кількість балів : 2/4\n",
      "\n",
      "\n",
      "Q.5: Лінус Торвальдс створив Linux і Git. (Y/N): y\n",
      "Ви абсолютно праві!\n",
      "Коректною відповіддю є: Y.\n",
      "Ваша правильна кількість балів : 3/5\n",
      "\n",
      "\n",
      "Q.6: Мова програмування 'Python' базується на модифікованій версії 'JavaScript' (Y/N): y\n",
      "Ви абсолютно праві!\n",
      "Коректною відповіддю є: Y.\n",
      "Ваша правильна кількість балів : 4/6\n",
      "\n",
      "\n",
      "Q.7: Компанія AMD першою розробила 64-bit процесор для ринку. (Y/N): y\n",
      "Ви абсолютно праві!\n",
      "Коректною відповіддю є: Y.\n",
      "Ваша правильна кількість балів : 5/7\n",
      "\n",
      "\n",
      "Q.8: 'HTML' можна перекласти як мова розмітки гіпертексту. (Y/N): n\n",
      "Це не вірно!\n",
      "Коректною відповіддю є: Y.\n",
      "Ваша правильна кількість балів : 5/8\n",
      "\n",
      "\n",
      "Q.9: У більшості мов програмування оператор ++ еквівалентний оператору '+= 1'. (Y/N): n\n",
      "Це не вірно!\n",
      "Коректною відповіддю є: Y.\n",
      "Ваша правильна кількість балів : 5/9\n",
      "\n",
      "\n",
      "Q.10: ПК IBM PC використовував мікропроцесор Intel 8008 з тактовою частотою 4,77 МГц та 8 кілобайтами пам'яті. (Y/N): n\n",
      "Ви абсолютно праві!\n",
      "Коректною відповіддю є: N.\n",
      "Ваша правильна кількість балів : 6/10\n",
      "\n",
      "\n",
      "Ви завершили тестування ваших знань\n",
      "Ваша фінальна клькість балів є такою: 6/10\n"
     ]
    }
   ],
   "source": [
    "from question_model import Question\n",
    "from data import question_data\n",
    "from quiz_brain import QuizBrain\n",
    "\n",
    "question_bank = []\n",
    "# ваш код тут:\n",
    "\n",
    "# результат роботи вашої програми нижче. Тематика запитань - ваш вибір"
   ]
  },
  {
   "cell_type": "code",
   "execution_count": null,
   "metadata": {},
   "outputs": [],
   "source": [
    "class Question:\n",
    "    def __init__(self, question_text, question_answer):\n",
    "        self.text = question_text\n",
    "        self.answer = question_answer\n",
    "new_question = Question(\"5-ий Стандарт мови розмітки гіпертексту  HTML5 був оприлюднений у 2014 році (Y/N): \", \"Y\")\n",
    "print(new_question.text)\n",
    "print(new_question.answer)\n",
    "\n",
    "user_answer = input(f\"{new_question.text} (Y/N): \")\n",
    "user_answer == new_question.answer"
   ]
  },
  {
   "cell_type": "code",
   "execution_count": 2,
   "metadata": {},
   "outputs": [],
   "source": [
    "question_data = [\n",
    "    {\n",
    "        \"question\": \"5-ий Стандарт мови розмітки гіпертексту  HTML5 був оприлюднений у 2014 році\", \n",
    "        \"correct_answer\": \"Y\"\n",
    "    },\n",
    "    {\n",
    "        \"question\": \"Перша помилка комп'ютера була ініційована несправними проводами\",\n",
    "        \"correct_answer\": \"N\"\n",
    "    },\n",
    "    {\n",
    "        \"question\": \"FLAC є скороченою назвою 'вільний аудіокодек без втрат'.\",\n",
    "        \"correct_answer\": \"Y\"\n",
    "    },\n",
    "    {\n",
    "        \"question\": \"В системі Windows коди програм можуть бути скомпілованими в *.EXE файли. Потім, цей файл може бути виконаний на будь-якої машині\",\n",
    "        \"correct_answer\": \"N\"\n",
    "    },\n",
    "    {\n",
    "        \"question\": \"Лінус Торвальдс створив Linux і Git.\",\n",
    "        \"correct_answer\": \"Y\"\n",
    "    },\n",
    "    {\n",
    "        \"question\": \"Мова програмування 'Python' базується на модифікованій версії 'JavaScript'\",\n",
    "        \"correct_answer\": \"Y\"\n",
    "    },\n",
    "    {\n",
    "        \"question\": \"Компанія AMD першою розробила 64-bit процесор для ринку.\",\n",
    "        \"correct_answer\": \"Y\"\n",
    "    },\n",
    "    {\n",
    "        \"question\": \"'HTML' можна перекласти як мова розмітки гіпертексту.\",\n",
    "        \"correct_answer\": \"Y\"\n",
    "    },\n",
    "    {\n",
    "        \"question\": \"У більшості мов програмування оператор ++ еквівалентний оператору '+= 1'.\",\n",
    "        \"correct_answer\": \"Y\"\n",
    "    },\n",
    "    {\n",
    "        \"question\": \"ПК IBM PC використовував мікропроцесор Intel 8008 з тактовою частотою 4,77 МГц та 8 кілобайтами пам'яті.\",\n",
    "        \"correct_answer\": \"N\"\n",
    "    }\n",
    "]\n"
   ]
  },
  {
   "cell_type": "code",
   "execution_count": null,
   "metadata": {},
   "outputs": [],
   "source": [
    "# як можна звернутись до елементу? \n",
    "question_data"
   ]
  },
  {
   "cell_type": "code",
   "execution_count": null,
   "metadata": {},
   "outputs": [],
   "source": [
    "question_data[-1]"
   ]
  },
  {
   "cell_type": "code",
   "execution_count": 7,
   "metadata": {},
   "outputs": [],
   "source": [
    "question_pool = []\n",
    "for question in question_data:\n",
    "    question_text = question[\"question\"]\n",
    "    question_answer = question[\"correct_answer\"]\n",
    "    new_question = Question(question_text, question_answer)\n",
    "    question_pool.append(new_question)"
   ]
  },
  {
   "cell_type": "code",
   "execution_count": null,
   "metadata": {},
   "outputs": [],
   "source": [
    "print(question_pool[-1].text)"
   ]
  },
  {
   "cell_type": "code",
   "execution_count": null,
   "metadata": {},
   "outputs": [],
   "source": [
    "print(question_pool[-1].answer)"
   ]
  },
  {
   "cell_type": "markdown",
   "metadata": {},
   "source": [
    "### Зробити Із_6:\n",
    "    1. Розробити на основі ООП. \n",
    "    2. Задати запитання \n",
    "    3. Перевірка наданої відповіді на коректніть (у відповідності до запитань завантаженої по API бази запитань \n",
    "    https://opentdb.com/ ) \n",
    "    4. Чи останнє задане запитання. \n",
    "    5. Підрахувати коректні бали\n",
    "    6. Захист на основі API, яке буде надане викладачем безпосередньо перед захистом "
   ]
  },
  {
   "cell_type": "markdown",
   "metadata": {},
   "source": [
    "### JSON Data Types\n",
    "\n",
    "    https://www.w3schools.com/js/js_json_datatypes.asp \n",
    "    https://docs.python.org/3/library/internet.html \n",
    "    https://docs.python.org/3/library/urllib.html\n",
    "    https://docs.python.org/3/library/json.html\n",
    "    https://docs.python.org/3/library/xml.html"
   ]
  },
  {
   "cell_type": "code",
   "execution_count": 8,
   "metadata": {},
   "outputs": [],
   "source": [
    "import requests"
   ]
  },
  {
   "cell_type": "code",
   "execution_count": 9,
   "metadata": {},
   "outputs": [],
   "source": [
    "url = 'https://opentdb.com/api.php?amount=10&category=18&difficulty=easy&type=boolean'\n",
    "# response_code\":0,\"results\"\n",
    "\n",
    "payload = {'response_code': 'results'}"
   ]
  },
  {
   "cell_type": "code",
   "execution_count": null,
   "metadata": {},
   "outputs": [],
   "source": [
    "payload"
   ]
  },
  {
   "cell_type": "code",
   "execution_count": 11,
   "metadata": {},
   "outputs": [],
   "source": [
    "# r = requests.get(url)\n",
    "r = requests.get(url, payload)"
   ]
  },
  {
   "cell_type": "code",
   "execution_count": null,
   "metadata": {},
   "outputs": [],
   "source": [
    "r.url"
   ]
  },
  {
   "cell_type": "code",
   "execution_count": null,
   "metadata": {},
   "outputs": [],
   "source": [
    "requests.get('https://api.github.com')"
   ]
  },
  {
   "cell_type": "code",
   "execution_count": 14,
   "metadata": {},
   "outputs": [],
   "source": [
    " response = requests.get('https://api.github.com')"
   ]
  },
  {
   "cell_type": "code",
   "execution_count": null,
   "metadata": {},
   "outputs": [],
   "source": [
    "r.url"
   ]
  },
  {
   "cell_type": "code",
   "execution_count": 16,
   "metadata": {},
   "outputs": [],
   "source": [
    "r1 = requests.get('https://opentdb.com/api.php?amount=10&category=18&difficulty=easy&type=boolean&response_code=results')"
   ]
  },
  {
   "cell_type": "code",
   "execution_count": null,
   "metadata": {},
   "outputs": [],
   "source": [
    "r1"
   ]
  },
  {
   "cell_type": "code",
   "execution_count": null,
   "metadata": {},
   "outputs": [],
   "source": [
    "r1.url"
   ]
  },
  {
   "cell_type": "code",
   "execution_count": 19,
   "metadata": {},
   "outputs": [],
   "source": [
    "dataJsonSite = r.json()"
   ]
  },
  {
   "cell_type": "code",
   "execution_count": null,
   "metadata": {},
   "outputs": [],
   "source": [
    "dataJsonSite"
   ]
  },
  {
   "cell_type": "code",
   "execution_count": null,
   "metadata": {},
   "outputs": [],
   "source": [
    "type(dataJsonSite)"
   ]
  },
  {
   "cell_type": "code",
   "execution_count": null,
   "metadata": {},
   "outputs": [],
   "source": [
    "dataJsonSite[\"response_code\"]"
   ]
  },
  {
   "cell_type": "code",
   "execution_count": 25,
   "metadata": {},
   "outputs": [],
   "source": [
    "response_code = dataJsonSite['response_code']"
   ]
  },
  {
   "cell_type": "code",
   "execution_count": null,
   "metadata": {},
   "outputs": [],
   "source": [
    "response_code"
   ]
  },
  {
   "cell_type": "code",
   "execution_count": 27,
   "metadata": {},
   "outputs": [],
   "source": [
    "response_results = dataJsonSite['results']"
   ]
  },
  {
   "cell_type": "code",
   "execution_count": null,
   "metadata": {},
   "outputs": [],
   "source": [
    "response_results"
   ]
  },
  {
   "cell_type": "code",
   "execution_count": null,
   "metadata": {},
   "outputs": [],
   "source": [
    "response_results[-1]"
   ]
  },
  {
   "cell_type": "code",
   "execution_count": null,
   "metadata": {},
   "outputs": [],
   "source": [
    "type(response_results)"
   ]
  },
  {
   "cell_type": "code",
   "execution_count": 45,
   "metadata": {},
   "outputs": [],
   "source": [
    "category = response_results[-1]['category']"
   ]
  },
  {
   "cell_type": "code",
   "execution_count": null,
   "metadata": {},
   "outputs": [],
   "source": [
    "category"
   ]
  },
  {
   "cell_type": "code",
   "execution_count": 49,
   "metadata": {},
   "outputs": [],
   "source": [
    "question = response_results[-1]['question']"
   ]
  },
  {
   "cell_type": "code",
   "execution_count": null,
   "metadata": {},
   "outputs": [],
   "source": [
    "question"
   ]
  },
  {
   "cell_type": "code",
   "execution_count": 51,
   "metadata": {},
   "outputs": [],
   "source": [
    "correct_answer = response_results[-1]['correct_answer']"
   ]
  },
  {
   "cell_type": "code",
   "execution_count": null,
   "metadata": {},
   "outputs": [],
   "source": [
    "correct_answer"
   ]
  },
  {
   "cell_type": "code",
   "execution_count": 33,
   "metadata": {},
   "outputs": [],
   "source": [
    "incorrect_answer = response_results[-1]['incorrect_answers']"
   ]
  },
  {
   "cell_type": "code",
   "execution_count": null,
   "metadata": {},
   "outputs": [],
   "source": [
    "incorrect_answer"
   ]
  },
  {
   "cell_type": "code",
   "execution_count": null,
   "metadata": {},
   "outputs": [],
   "source": [
    "#запит до сайту \n",
    "import urllib.request\n",
    "\n",
    "x = urllib.request.urlopen('https://www.google.com/')\n",
    "print(x.read())"
   ]
  },
  {
   "cell_type": "code",
   "execution_count": 40,
   "metadata": {},
   "outputs": [],
   "source": [
    "# парсинг даних по url\n",
    "import urllib.parse\n",
    "\n",
    "\n",
    "url = 'https://www.google.com/search'\n",
    "# url = 'https://www.yahoo.com/search'\n",
    "values = {'q' : 'python programming tutorials'}"
   ]
  },
  {
   "cell_type": "code",
   "execution_count": null,
   "metadata": {},
   "outputs": [],
   "source": [
    "values"
   ]
  },
  {
   "cell_type": "code",
   "execution_count": null,
   "metadata": {},
   "outputs": [],
   "source": [
    "# парсинг\n",
    "data = urllib.parse.urlencode(values)\n",
    "data = data.encode('utf-8') # дані\n",
    "req = urllib.request.Request(url, data)\n",
    "resp = urllib.request.urlopen(req)\n",
    "respData = resp.read()\n",
    "\n",
    "print(respData)"
   ]
  },
  {
   "cell_type": "code",
   "execution_count": null,
   "metadata": {},
   "outputs": [],
   "source": []
  },
  {
   "cell_type": "code",
   "execution_count": null,
   "metadata": {},
   "outputs": [],
   "source": []
  },
  {
   "cell_type": "code",
   "execution_count": null,
   "metadata": {},
   "outputs": [],
   "source": [
    "import urllib.request\n",
    "with urllib.request.urlopen('http://python.org/') as response:\n",
    "   html = response.read()"
   ]
  },
  {
   "cell_type": "code",
   "execution_count": null,
   "metadata": {},
   "outputs": [],
   "source": [
    "html"
   ]
  },
  {
   "cell_type": "code",
   "execution_count": 45,
   "metadata": {},
   "outputs": [],
   "source": [
    "import urllib.parse\n",
    "import urllib.request\n",
    "\n",
    "url = 'http://www.someserver.com/cgi-bin/register.cgi'\n",
    "user_agent = 'Mozilla/5.0 (Windows NT 6.1; Win64; x64)'\n",
    "values = {\"ім'я\": 'Михайло Томсон',\n",
    "          'location': 'Northampton',\n",
    "          'language': 'Python' }\n",
    "headers = {'User-Agent': user_agent}\n",
    "\n",
    "data = urllib.parse.urlencode(values)\n",
    "data = data.encode('ascii')\n",
    "req = urllib.request.Request(url, data, headers)\n",
    "with urllib.request.urlopen(req) as response:\n",
    "   the_page = response.read()"
   ]
  },
  {
   "cell_type": "code",
   "execution_count": null,
   "metadata": {},
   "outputs": [],
   "source": [
    "data"
   ]
  },
  {
   "cell_type": "code",
   "execution_count": null,
   "metadata": {},
   "outputs": [],
   "source": [
    "req"
   ]
  },
  {
   "cell_type": "code",
   "execution_count": null,
   "metadata": {},
   "outputs": [],
   "source": [
    "try:\n",
    "    x = urllib.request.urlopen('https://www.google.com/search?q=test')\n",
    "    # print(x.read())\n",
    "\n",
    "    saveFile = open('noheaders.txt','w')\n",
    "    saveFile.write(str(x.read()))\n",
    "    saveFile.close()\n",
    "except Exception as e:\n",
    "    print(str(e))"
   ]
  },
  {
   "cell_type": "code",
   "execution_count": 49,
   "metadata": {},
   "outputs": [],
   "source": [
    "# із заголовком  \n",
    "try:\n",
    "    url = 'https://www.google.com/search?q=python'\n",
    "\n",
    "    # із заголовком де вказано, \n",
    "    # що використовується Іnternet Еxplorer.\n",
    "    headers = {}\n",
    "    headers['User-Agent'] = \"Mozilla/5.0 (X11; Linux i686) AppleWebKit/537.17 (KHTML, like Gecko) Chrome/24.0.1312.27 Safari/537.17\"\n",
    "    req = urllib.request.Request(url, headers = headers)\n",
    "    resp = urllib.request.urlopen(req)\n",
    "    respData = resp.read()\n",
    "\n",
    "    saveFile = open('withHeaders.txt','w')\n",
    "    saveFile.write(str(respData))\n",
    "    saveFile.close()\n",
    "except Exception as e:\n",
    "    print(str(e))"
   ]
  },
  {
   "cell_type": "code",
   "execution_count": null,
   "metadata": {},
   "outputs": [],
   "source": [
    "# серіалізація \n",
    "import json\n",
    "# Словник як JSON об'єкт \n",
    "# серіалізація - перетворення об'єктів Python до JSON рядків \n",
    "studentDict = {1:\"Petro Petrenko\",\n",
    "               2:\"Semen Symonenko\",\n",
    "               3:\"Viktor Sgnatyk\",\n",
    "               4:\"Valery Gorovy\"}\n",
    "jsonString  = json.dumps(studentDict)\n",
    "# Словник Python JSON об'єкт \n",
    "print(jsonString)"
   ]
  },
  {
   "cell_type": "code",
   "execution_count": null,
   "metadata": {},
   "outputs": [],
   "source": [
    "print(type(jsonString))"
   ]
  },
  {
   "cell_type": "code",
   "execution_count": null,
   "metadata": {},
   "outputs": [],
   "source": [
    "jsonString[-1]"
   ]
  },
  {
   "cell_type": "code",
   "execution_count": null,
   "metadata": {},
   "outputs": [],
   "source": [
    "# список, як JSON об'єкт\n",
    "repDigits = [11,22,33,44]\n",
    "jsonString  = json.dumps(repDigits)\n",
    "# python список як JSON рядок \n",
    "print(jsonString)\n",
    "# None як JSON\n",
    "reference1 = None\n",
    "jsonString  = json.dumps(reference1)\n",
    "print(jsonString)\n",
    "#  True як JSON об'єкт\n",
    "alive = True\n",
    "jsonString  = json.dumps(alive)\n",
    "print(jsonString)"
   ]
  },
  {
   "cell_type": "markdown",
   "metadata": {},
   "source": [
    "Відповідність типів\n",
    "\n",
    "    JSON\tPYTHON 3\n",
    "    object\tdictionary\n",
    "    array\tlist\n",
    "    string\tstring\n",
    "    integer\tinteger\n",
    "    real number\tfloat\n",
    "    true\tTrue\n",
    "    false\tFalse\n",
    "    null\tNone\n",
    "    Текст \tТекст \n"
   ]
  },
  {
   "cell_type": "markdown",
   "metadata": {},
   "source": [
    "## Parsing functions:\n",
    "    obj = load(file)\n",
    "    obj = loads(string)\n",
    "## Serialization functions:\n",
    "    dump(obj, file)\n",
    "    str = dumps(obj)"
   ]
  },
  {
   "cell_type": "code",
   "execution_count": null,
   "metadata": {},
   "outputs": [],
   "source": [
    "    Pickle\n",
    "    JSON\n",
    "    YAML\n",
    "    Protobuf\n",
    "    MessagePack\n",
    "    CBOR"
   ]
  },
  {
   "cell_type": "code",
   "execution_count": null,
   "metadata": {},
   "outputs": [],
   "source": [
    "'''{\n",
    "   \"стаття\": [\n",
    "\n",
    "      {\n",
    "         \"ідентифікатор\":\"01\",\n",
    "         \"мова\": \"JSON\",\n",
    "         \"редакція\": \"перша\",\n",
    "         \"автор\": \"Олександр Михайличенко\"\n",
    "      },\n",
    "\n",
    "      {\n",
    "         \"ідентифікатор\":\"02\",\n",
    "         \"мова\": \"Python\",\n",
    "         \"редакція\": \"друга\",\n",
    "         \"автор\": \"Олександр Михайличенко\"\n",
    "      }\n",
    "   ],\n",
    "\n",
    "   \"блог\":[\n",
    "   {\n",
    "       \"ім'я\": \"Yahoo\",\n",
    "       \"URL\":\"yahoo.com\"\n",
    "   }\n",
    "   ]\n",
    "}'''"
   ]
  },
  {
   "cell_type": "code",
   "execution_count": null,
   "metadata": {},
   "outputs": [],
   "source": [
    "# JSON -> Python \n",
    "import json \n",
    "\n",
    "# визначення рядка у JSON форматі\n",
    "jsonStr = '''{\n",
    "    \"сендвич\" : \"Великий\",\n",
    "    \"смажений\" : true,\n",
    "    \"начинка\" : [\n",
    "        \"м'ясо\",\n",
    "        \"сир\",\n",
    "        \"печінка\"\n",
    "    ],\n",
    "    \"ціна\" : 3.99\n",
    "}'''\n",
    "data = json.loads(jsonStr)\n",
    "print(\"сендвич: \" + data['сендвич'])\n",
    "if (data['смажений']):\n",
    "    print(\"Дійсно смажений\")\n",
    "for topping in data['начинка']:\n",
    "    print(\"Начинка: \" + topping)"
   ]
  },
  {
   "cell_type": "code",
   "execution_count": null,
   "metadata": {},
   "outputs": [],
   "source": [
    "print(type(jsonStr))"
   ]
  },
  {
   "cell_type": "code",
   "execution_count": null,
   "metadata": {},
   "outputs": [],
   "source": [
    "print(jsonStr[12])"
   ]
  },
  {
   "cell_type": "code",
   "execution_count": null,
   "metadata": {},
   "outputs": [],
   "source": [
    "print(type(data))"
   ]
  },
  {
   "cell_type": "code",
   "execution_count": null,
   "metadata": {},
   "outputs": [],
   "source": [
    "print(data)"
   ]
  },
  {
   "cell_type": "code",
   "execution_count": null,
   "metadata": {},
   "outputs": [],
   "source": [
    "data[\"начинка\"]"
   ]
  },
  {
   "cell_type": "code",
   "execution_count": null,
   "metadata": {},
   "outputs": [],
   "source": [
    "# Python -> JSON\n",
    "\n",
    "import json \n",
    "\n",
    "# визначення рядка у Python форматі\n",
    "pythonData = {\n",
    "    \"сендвич\" : \"Великий\",\n",
    "    \"смажений\" : True,\n",
    "    \"начинка\" : [\n",
    "        \"м'ясо\",\n",
    "        \"сир\",\n",
    "        \"печінка\"\n",
    "    ],\n",
    "    \"ціна\" : 3.99\n",
    "}\n",
    "jsonStr = json.dumps(pythonData, indent=4) # indent=4 \n",
    "\n",
    "print(\"JSON Data : ========\")\n",
    "print(jsonStr)"
   ]
  },
  {
   "cell_type": "code",
   "execution_count": null,
   "metadata": {},
   "outputs": [],
   "source": [
    "print(type(pythonData))"
   ]
  },
  {
   "cell_type": "code",
   "execution_count": null,
   "metadata": {},
   "outputs": [],
   "source": [
    "# \n",
    "import json\n",
    "my_json_string = \"\"\"{\n",
    "   \"стаття\": [\n",
    "\n",
    "      {\n",
    "         \"ідентифікатор\":\"01\",\n",
    "         \"мова\": \"JSON\",\n",
    "         \"редакція\": \"перша\",\n",
    "         \"автор\": \"Олександр Михайличенко\"\n",
    "      },\n",
    "\n",
    "      {\n",
    "         \"ідентифікатор\":\"02\",\n",
    "         \"мова\": \"Python\",\n",
    "         \"редакція\": \"друга\",\n",
    "         \"автор\": \"Олександр Михайличенко\"\n",
    "      }\n",
    "   ],\n",
    "\n",
    "   \"блог\":[\n",
    "   {\n",
    "       \"ім'я\": \"Yahoo\",\n",
    "       \"URL\":\"yahoo.com\"\n",
    "   }\n",
    "   ]\n",
    "}\n",
    "\"\"\"\n",
    "to_python = json.loads(my_json_string)"
   ]
  },
  {
   "cell_type": "code",
   "execution_count": null,
   "metadata": {},
   "outputs": [],
   "source": [
    "my_json_string[0]"
   ]
  },
  {
   "cell_type": "code",
   "execution_count": null,
   "metadata": {},
   "outputs": [],
   "source": [
    "to_python[0]"
   ]
  },
  {
   "cell_type": "code",
   "execution_count": null,
   "metadata": {},
   "outputs": [],
   "source": [
    "to_python"
   ]
  },
  {
   "cell_type": "code",
   "execution_count": null,
   "metadata": {},
   "outputs": [],
   "source": [
    "to_python['блог']"
   ]
  },
  {
   "cell_type": "code",
   "execution_count": null,
   "metadata": {},
   "outputs": [],
   "source": [
    "type(to_python['блог'])"
   ]
  },
  {
   "cell_type": "code",
   "execution_count": null,
   "metadata": {},
   "outputs": [],
   "source": [
    "# серіалізація Python об'єктів у JSON\n",
    "blog = {'URL': 'Yahoo.com', 'name': 'Yahoo'}\n",
    "to_json= json.dumps(blog)"
   ]
  },
  {
   "cell_type": "code",
   "execution_count": null,
   "metadata": {},
   "outputs": [],
   "source": [
    "to_json"
   ]
  },
  {
   "cell_type": "code",
   "execution_count": null,
   "metadata": {},
   "outputs": [],
   "source": [
    "to_json[0]"
   ]
  },
  {
   "cell_type": "code",
   "execution_count": null,
   "metadata": {},
   "outputs": [],
   "source": [
    "# Python кортежі в JSON масив\n",
    "tuple_example = 'Банан', 'Манго', 'Яблуко';\n",
    "print(json.dumps(tuple_example))"
   ]
  },
  {
   "cell_type": "code",
   "execution_count": null,
   "metadata": {},
   "outputs": [],
   "source": [
    "tuple_example[-2]"
   ]
  },
  {
   "cell_type": "code",
   "execution_count": null,
   "metadata": {},
   "outputs": [],
   "source": [
    "# Python кортежі в JSON масив\n",
    "tuple_example = 'Banan', 'Mango', 'Cherry';\n",
    "print(json.dumps(tuple_example))"
   ]
  },
  {
   "cell_type": "code",
   "execution_count": null,
   "metadata": {},
   "outputs": [],
   "source": [
    "tuple_example[0]"
   ]
  },
  {
   "cell_type": "code",
   "execution_count": null,
   "metadata": {},
   "outputs": [],
   "source": [
    "type(tuple_example)"
   ]
  },
  {
   "cell_type": "code",
   "execution_count": null,
   "metadata": {},
   "outputs": [],
   "source": [
    "type(json.dumps(tuple_example))"
   ]
  },
  {
   "cell_type": "code",
   "execution_count": null,
   "metadata": {},
   "outputs": [],
   "source": [
    "json.dumps(tuple_example)[-1]"
   ]
  },
  {
   "cell_type": "code",
   "execution_count": null,
   "metadata": {},
   "outputs": [],
   "source": [
    "# Python список --> JSON масиву \n",
    "list_example = [\"Манго\", 1, 3,6, \"Апеьсин\"];\n",
    "print(json.dumps(list_example));"
   ]
  },
  {
   "cell_type": "code",
   "execution_count": null,
   "metadata": {},
   "outputs": [],
   "source": [
    "type(list_example)"
   ]
  },
  {
   "cell_type": "code",
   "execution_count": null,
   "metadata": {},
   "outputs": [],
   "source": [
    "type(json.dumps(list_example))"
   ]
  },
  {
   "cell_type": "code",
   "execution_count": null,
   "metadata": {},
   "outputs": [],
   "source": [
    "list_example[0]"
   ]
  },
  {
   "cell_type": "code",
   "execution_count": null,
   "metadata": {},
   "outputs": [],
   "source": [
    "# Python рядок ---> JSON рядка\n",
    "string_example = \"Приклад серіалізації рядка.\"\n",
    "print(json.dumps(string_example))"
   ]
  },
  {
   "cell_type": "code",
   "execution_count": null,
   "metadata": {},
   "outputs": [],
   "source": [
    "type(string_example)"
   ]
  },
  {
   "cell_type": "code",
   "execution_count": null,
   "metadata": {},
   "outputs": [],
   "source": [
    "type(json.dumps(string_example))"
   ]
  },
  {
   "cell_type": "code",
   "execution_count": null,
   "metadata": {},
   "outputs": [],
   "source": [
    "# Python логічний тип ---> JSON логічний тип \n",
    "boolean_value = False\n",
    "print(json.dumps(boolean_value))"
   ]
  },
  {
   "cell_type": "code",
   "execution_count": null,
   "metadata": {},
   "outputs": [],
   "source": [
    "# прогнозований результат\n",
    "json.dumps(boolean_value)[0]"
   ]
  },
  {
   "cell_type": "code",
   "execution_count": 194,
   "metadata": {},
   "outputs": [],
   "source": [
    "# запис JSON файлу \n",
    "my_json_string = \"\"\"{\n",
    "   \"стаття\": [\n",
    "\n",
    "      {\n",
    "         \"ідентифікатор\":\"01\",\n",
    "         \"мова\": \"JSON\",\n",
    "         \"редакція\": \"перша\",\n",
    "         \"автор\": \"Олександр Михайличенко\"\n",
    "      },\n",
    "\n",
    "      {\n",
    "         \"ідентифікатор\":\"02\",\n",
    "         \"мова\": \"Python\",\n",
    "         \"редакція\": \"друга\",\n",
    "         \"автор\": \"Олександр Михайличенко\"\n",
    "      }\n",
    "   ],\n",
    "\n",
    "   \"блог\":[\n",
    "   {\n",
    "       \"ім'я\": \"Yahoo\",\n",
    "       \"URL\":\"yahoo.com\"\n",
    "   }\n",
    "   ]\n",
    "}\n",
    "\"\"\"\n",
    "with open('test_file.json', 'w') as file:\n",
    "    json.dump(my_json_string, file)"
   ]
  },
  {
   "cell_type": "code",
   "execution_count": null,
   "metadata": {},
   "outputs": [],
   "source": [
    "# читання JSON файлу \n",
    "with open('test_file.json', 'r') as j:\n",
    "    json_data = json.load(j)\n",
    "    print(json_data)"
   ]
  },
  {
   "cell_type": "code",
   "execution_count": null,
   "metadata": {},
   "outputs": [],
   "source": [
    "import pandas as pd\n",
    "data = pd.read_json(\"https://api.github.com/users\")\n",
    "df = pd.DataFrame(data)"
   ]
  },
  {
   "cell_type": "code",
   "execution_count": null,
   "metadata": {},
   "outputs": [],
   "source": [
    "df"
   ]
  },
  {
   "cell_type": "code",
   "execution_count": null,
   "metadata": {},
   "outputs": [],
   "source": [
    "from bs4 import BeautifulSoup\n",
    "import urllib.request\n",
    "\n",
    "req = urllib.request.urlopen('https://www.ua-football.com/sport')\n",
    "html = req.read()\n",
    "sitesoup = BeautifulSoup(html, 'html.parser')\n",
    "print(sitesoup)"
   ]
  },
  {
   "cell_type": "code",
   "execution_count": null,
   "metadata": {},
   "outputs": [],
   "source": [
    "from bs4 import BeautifulSoup\n",
    "import urllib.request\n",
    "\n",
    "req = urllib.request.urlopen('https://www.ua-football.com/sport')\n",
    "html = req.read()\n",
    "\n",
    "results = []\n",
    "\n",
    "for item in news:\n",
    "    title = item.find('span', class_='d-block').get_text(strip=True)\n",
    "    print(title)\n",
    "    desc = None\n",
    "    href = None"
   ]
  },
  {
   "cell_type": "code",
   "execution_count": null,
   "metadata": {},
   "outputs": [],
   "source": [
    "import urllib.request\n",
    "\n",
    "req = urllib.request.urlopen('https://www.ua-football.com/sport')\n",
    "html = req.read()\n",
    "\n",
    "soup = BeautifulSoup(html, 'html.parser')\n",
    "news = soup.find_all('li', class_='liga-news-item')\n",
    "\n",
    "results = []\n",
    "\n",
    "for item in news:\n",
    "    title = item.find('span', class_='fz-16').get_text(strip=True)\n",
    "    print(title)"
   ]
  },
  {
   "cell_type": "code",
   "execution_count": null,
   "metadata": {},
   "outputs": [],
   "source": [
    "from bs4 import BeautifulSoup\n",
    "import urllib.request\n",
    "\n",
    "req = urllib.request.urlopen('https://www.ua-football.com/sport')\n",
    "html = req.read()\n",
    "\n",
    "soup = BeautifulSoup(html, 'html.parser')\n",
    "news = soup.find_all('li', class_='liga-news-item')\n",
    "\n",
    "results = []\n",
    "\n",
    "for item in news:\n",
    "    title = item.find('span', class_='d-block').get_text(strip=True)\n",
    "    desc = item.find('span', class_='name-dop').get_text(strip=True)\n",
    "    href = item.a.get('href')\n",
    "    results.append({\n",
    "        'title': title,\n",
    "        'desc': desc,\n",
    "        'href': href,\n",
    "    })\n",
    "print(results)"
   ]
  },
  {
   "cell_type": "code",
   "execution_count": null,
   "metadata": {},
   "outputs": [],
   "source": [
    "from bs4 import BeautifulSoup\n",
    "import urllib.request\n",
    "\n",
    "req = urllib.request.urlopen('https://www.ua-football.com/sport')\n",
    "html = req.read()\n",
    "\n",
    "soup = BeautifulSoup(html, 'html.parser')\n",
    "news = soup.find_all('li', class_='liga-news-item')\n",
    "\n",
    "results = []\n",
    "\n",
    "for item in news:\n",
    "    title = item.find('span', class_='d-block').get_text(strip=True)\n",
    "    desc = item.find('span', class_='name-dop').get_text(strip=True)\n",
    "    href = item.a.get('href')\n",
    "    results.append({\n",
    "        'title': title,\n",
    "        'desc': desc,\n",
    "        'href': href,\n",
    "    })\n",
    "\n",
    "f = open('news.txt', 'w', encoding='utf-8')\n",
    "i = 1\n",
    "for item in results:\n",
    "    f.write(f'Новина № {i}\\n\\nНазва: {item[\"title\"]}\\nОпис: {item[\"desc\"]}\\nПосилання: {item[\"href\"]}\\n\\n**********************\\n')\n",
    "    i += 1\n",
    "f.close()"
   ]
  }
 ],
 "metadata": {
  "kernelspec": {
   "display_name": "Python 3",
   "language": "python",
   "name": "python3"
  },
  "language_info": {
   "codemirror_mode": {
    "name": "ipython",
    "version": 3
   },
   "file_extension": ".py",
   "mimetype": "text/x-python",
   "name": "python",
   "nbconvert_exporter": "python",
   "pygments_lexer": "ipython3",
   "version": "3.7.6"
  }
 },
 "nbformat": 4,
 "nbformat_minor": 4
}
