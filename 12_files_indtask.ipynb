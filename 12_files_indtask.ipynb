{
 "cells": [
  {
   "cell_type": "markdown",
   "metadata": {},
   "source": [
    "## Індивідуальне завдання №1 \n",
    "\n"
   ]
  },
  {
   "cell_type": "markdown",
   "metadata": {},
   "source": [
    "На підприємстві функціонує система електронного документообігу. Система обробляє три **типи** документів: **листи**, **накази**, **розпорядження**. Кожен документ має: **номер**, **дату**, **короткий зміст**. Крім того, в листах вказується тип: **вхідний**/**вихідний** і **кореспондент**. А в наказах: **підрозділ**, **строк виконання**, і **виконавець**. А в розпорядженнях: **працівник**, **період** і **робоче місце**. \n",
    "    \n",
    "    Вивести: 1. Перелік документів в системі електронного документообігу.                                           \n",
    "             2. Зміст обраного документу за його номером. \n"
   ]
  },
  {
   "cell_type": "code",
   "execution_count": 1,
   "metadata": {},
   "outputs": [
    {
     "name": "stdout",
     "output_type": "stream",
     "text": [
      "content : Letter 1\n",
      "date : 01/01/2000\n",
      "letter_type : Output\n",
      "number : 1\n",
      "sender : Bohak\n",
      "\n",
      "\n",
      "content : Instruction 1\n",
      "date : 02/02/2002\n",
      "employee : Someone who work\n",
      "number : 2\n",
      "period : 3 days\n",
      "workplace : Somwhere\n",
      "\n",
      "\n",
      "content : Order 1\n",
      "date : 03/03/2003\n",
      "deadline : 23/03/2003\n",
      "number : 3\n",
      "performer : Performer\n",
      "subsection : Subcection 5\n",
      "\n",
      "\n"
     ]
    },
    {
     "name": "stdin",
     "output_type": "stream",
     "text": [
      "Введіть номер документу: 2\n"
     ]
    },
    {
     "name": "stdout",
     "output_type": "stream",
     "text": [
      "Зміст документу: Instruction 1\n"
     ]
    }
   ],
   "source": [
    "class Documents:\n",
    "    \n",
    "    alldoc = dict()\n",
    "\n",
    "    def __init__(self, number, date, content):\n",
    "        self.number = number\n",
    "        self.date = date\n",
    "        self.content = content\n",
    "        \n",
    "        \n",
    "class Letters(Documents):\n",
    "    \n",
    "    \n",
    "    def __init__(self, number, date, content, letter_type, sender):\n",
    "        \n",
    "        Documents.__init__(self, number, date, content)\n",
    "        self.letter_type = letter_type\n",
    "        self.sender = sender\n",
    "    \n",
    "        \n",
    "        Documents.alldoc[number] = self\n",
    "         \n",
    "        \n",
    "class Orders(Documents):\n",
    "    \n",
    "    def __init__(self, number, date, content, subsection, deadline, performer):\n",
    "        \n",
    "        Documents.__init__(self, number, date, content)\n",
    "        self.subsection = subsection\n",
    "        self.deadline = deadline\n",
    "        self.performer = performer\n",
    "        \n",
    "        Documents.alldoc[number] = self\n",
    "        \n",
    "class Instructions(Documents):\n",
    "    \n",
    "    def __init__(self, number, date, content, employee, period, workplace):\n",
    "        \n",
    "        Documents.__init__(self, number, date, content)\n",
    "        self.employee = employee\n",
    "        self.period = period\n",
    "        self.workplace = workplace\n",
    "        \n",
    "        Documents.alldoc[number] = self\n",
    "        \n",
    "class Manager:\n",
    "      \n",
    "    def display(self):\n",
    "        \n",
    "        for key, value in Documents.alldoc.items():\n",
    "            for attribute in dir(value):\n",
    "                if attribute[0] != '_' and attribute != 'alldoc':\n",
    "                    print(attribute, ':', getattr(value , attribute ) )\n",
    "            print('\\n')\n",
    "    \n",
    "    def print_by_number(self, number):\n",
    "        \n",
    "        for num in Documents.alldoc:\n",
    "        \n",
    "            if num == number:\n",
    "                print('Зміст документу: {}'.format(Documents.alldoc[num].content))\n",
    "                break\n",
    "                \n",
    "        else: print('Документа з таким номером не існує')    \n",
    "    \n",
    "alldocuments = Manager()\n",
    "\n",
    "list1 = Letters(1, \"01/01/2000\", \"Letter 1\", \"Output\", \"Bohak\")\n",
    "instruction1 = Instructions(2, \"02/02/2002\", \"Instruction 1\", \"Someone who work\", \"3 days\", \"Somwhere\")\n",
    "order1 = Orders(3, \"03/03/2003\", \"Order 1\", \"Subcection 5\", \"23/03/2003\", \"Performer\")\n",
    "\n",
    "       \n",
    "alldocuments.display()\n",
    "\n",
    "number = int(input('Введіть номер документу:'))\n",
    "alldocuments.print_by_number(number)\n"
   ]
  },
  {
   "cell_type": "markdown",
   "metadata": {},
   "source": [
    "## Індивідуальне завдання №2"
   ]
  },
  {
   "cell_type": "markdown",
   "metadata": {},
   "source": [
    "В інформаційній системі Інтернет-магазину зберігається інформація про номенклатуру товарів **трьох** типів: **материнські плати**, **процесори**, **відеокарти**. Кожен товар має: **номенклатурний номер**, **найменування** і **вартість**.  Крім того, для материнських плат вказується: **тип сокета**, **кількість процесорів**, **тип оперативної пам’яті**, **частота системної шини**; для процесорів – **тип сокета**, **кількість ядер**, **тактова частота**, **техпроцес**; для відеокарт – **тактова частота відеочипу**, **швидкість заповнення (филлрейт)**, **кількість блоків текстурірування**.\n",
    "    \n",
    "    Вивести: 1. Повний перелік комплектуючих інформаційної системи Інтернет-магазину. \n",
    "             2. Детальну інформацію по товару за його номенклатурним номером. \n"
   ]
  },
  {
   "cell_type": "code",
   "execution_count": 9,
   "metadata": {},
   "outputs": [
    {
     "name": "stdout",
     "output_type": "stream",
     "text": [
      "RAM_type : DIMM\n",
      "bus_frequency : 16\n",
      "cost : 3000\n",
      "name : A515\n",
      "number : 1\n",
      "processors_number : 1\n",
      "socket_type : Socket H\n",
      "\n",
      "\n",
      "clock_frequency : 4.2 GHz\n",
      "cores_number : 4\n",
      "cost : 5000\n",
      "name : Intel core i5\n",
      "number : 2\n",
      "socket_type : Intel LGA 1200\n",
      "technical_process : 45 nm\n",
      "\n",
      "\n",
      "chip_speed : 1122MHz\n",
      "cost : 2500\n",
      "filler_rate : 9.9GPixel/s\n",
      "name : MX130\n",
      "number : 3\n",
      "textur_block_number : 24\n",
      "\n",
      "\n"
     ]
    },
    {
     "name": "stdin",
     "output_type": "stream",
     "text": [
      "Введіть номер документу: 2\n"
     ]
    },
    {
     "name": "stdout",
     "output_type": "stream",
     "text": [
      "clock_frequency : 4.2 GHz\n",
      "cores_number : 4\n",
      "cost : 5000\n",
      "name : Intel core i5\n",
      "number : 2\n",
      "socket_type : Intel LGA 1200\n",
      "technical_process : 45 nm\n"
     ]
    }
   ],
   "source": [
    "class Shop:\n",
    "    \n",
    "    allgoods = dict()\n",
    "\n",
    "    def __init__(self, number, name, cost):\n",
    "        self.number = number\n",
    "        self.name = name\n",
    "        self.cost = cost\n",
    "        \n",
    "        \n",
    "class Motherboards(Shop):\n",
    "    \n",
    "    def __init__(self, number, name, cost, socket_type, processors_number, RAM_type, bus_frequency):\n",
    "        \n",
    "        Shop.__init__(self, number, name, cost)\n",
    "        self.socket_type = socket_type\n",
    "        self.processors_number = processors_number\n",
    "        self.RAM_type = RAM_type\n",
    "        self.bus_frequency = bus_frequency       \n",
    "        \n",
    "        Shop.allgoods[number] = self\n",
    "        \n",
    "        \n",
    "class Processors(Shop):\n",
    "    \n",
    "    def __init__(self, number, name, cost, socket_type, cores_number, clock_frequency, technical_process):\n",
    "        \n",
    "        Shop.__init__(self, number, name, cost)\n",
    "        self.socket_type = socket_type\n",
    "        self.cores_number = cores_number\n",
    "        self.clock_frequency = clock_frequency\n",
    "        self.technical_process = technical_process\n",
    "        \n",
    "        Shop.allgoods[number] = self\n",
    "        \n",
    "class Videocard(Shop):\n",
    "    \n",
    "    def __init__(self, number, name, cost, chip_speed, filler_rate, textur_block_number):\n",
    "        \n",
    "        Shop.__init__(self, number, name, cost)\n",
    "        self.chip_speed = chip_speed\n",
    "        self.filler_rate = filler_rate\n",
    "        self.textur_block_number = textur_block_number\n",
    "        \n",
    "        Shop.allgoods[number] = self\n",
    "        \n",
    "class Manager:\n",
    "\n",
    "    def display(self):\n",
    "        \n",
    "        for key, value in Shop.allgoods.items():\n",
    "            for attribute in dir(value):\n",
    "                if attribute[0] != '_' and attribute != 'allgoods':\n",
    "                    print(attribute, ':', getattr(value , attribute ))\n",
    "            print('\\n')\n",
    "\n",
    "    def print_by_number(self, number):\n",
    "         \n",
    "        for key, value in Shop.allgoods.items():\n",
    "             if key == number:\n",
    "                for attribute in dir(value):\n",
    "                     if attribute[0] != '_' and attribute != 'allgoods':\n",
    "                        print(attribute, ':', getattr(value , attribute ))\n",
    "                break\n",
    "        \n",
    "        else: print('Документа з таким номером не існує')    \n",
    "        \n",
    "            \n",
    "    \n",
    "allgoods = Manager()\n",
    "\n",
    "motherboard1 = Motherboards(1, \"A515\", 3000, \"Socket H\", 1, \"DIMM\", 16)\n",
    "processors1 =  Processors(2, \"Intel core i5\", 5000, \"Intel LGA 1200\", 4, '4.2 GHz', '45 nm')\n",
    "videocard1 = Videocard(3, \"MX130\", 2500, '1122MHz', '9.9GPixel/s', 24)\n",
    "\n",
    "allgoods.display()\n",
    "\n",
    "number = int(input('Введіть номер документу:'))\n",
    "allgoods.print_by_number(number)\n"
   ]
  },
  {
   "cell_type": "code",
   "execution_count": null,
   "metadata": {},
   "outputs": [],
   "source": []
  }
 ],
 "metadata": {
  "kernelspec": {
   "display_name": "conda_python3",
   "language": "python",
   "name": "conda_python3"
  },
  "language_info": {
   "codemirror_mode": {
    "name": "ipython",
    "version": 3
   },
   "file_extension": ".py",
   "mimetype": "text/x-python",
   "name": "python",
   "nbconvert_exporter": "python",
   "pygments_lexer": "ipython3",
   "version": "3.6.10"
  }
 },
 "nbformat": 4,
 "nbformat_minor": 4
}
