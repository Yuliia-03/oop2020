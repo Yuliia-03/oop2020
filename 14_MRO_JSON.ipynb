{
 "cells": [
  {
   "cell_type": "code",
   "execution_count": null,
   "metadata": {},
   "outputs": [],
   "source": [
    "# атрибути класу і екземпляру класу\n",
    "class StaticClass:\n",
    "    x = 0\n",
    "\n",
    "example1 = StaticClass()\n",
    "\n",
    "print(f'значення атрибуту eкземпляру класу:{example1.x}')\n",
    "print(f'значення атрибуту класу:{StaticClass.x}')\n",
    "\n",
    "# значення атрибуту eкземпляру класу:0\n",
    "# значення атрибуту класу:0"
   ]
  },
  {
   "cell_type": "code",
   "execution_count": null,
   "metadata": {},
   "outputs": [],
   "source": [
    "# атрибути класу і екземпляру класу\n",
    "class StaticClass:\n",
    "    x = 0\n",
    "\n",
    "example1 = StaticClass()\n",
    "\n",
    "example1.x = 5\n",
    "\n",
    "print(f'значення атрибуту екземпляру класу:{example1.x}')\n",
    "print(f'значення атрибуту класу:{StaticClass.x}')\n",
    "\n",
    "# значення атрибуту кземпляру класу:5\n",
    "# значення атрибуту класу:0"
   ]
  },
  {
   "cell_type": "code",
   "execution_count": null,
   "metadata": {},
   "outputs": [],
   "source": [
    "# атрибути класу і екземпляру класу\n",
    "class StaticClass:\n",
    "    x = 0\n",
    "\n",
    "example1 = StaticClass()\n",
    "\n",
    "example1.x = 5\n",
    "\n",
    "StaticClass.x = 3\n",
    "\n",
    "print(f'значення атрибуту екземпляру класу:{example1.x}')\n",
    "print(f'значення атрибуту класу:{StaticClass.x}')\n",
    "\n",
    "# значення атрибуту кземпляру класу:5\n",
    "# значення атрибуту класу:3"
   ]
  },
  {
   "cell_type": "code",
   "execution_count": 147,
   "metadata": {},
   "outputs": [],
   "source": [
    "# класи для створення екземплярів можуть використовуватися по різному. \n",
    "# Статичний метод використовується у якості конструктора \n",
    "class Date:\n",
    "    def __init__(self, month, day, year):\n",
    "        self.month = month\n",
    "        self.day = day \n",
    "        self.year = year\n",
    "    def display(self):\n",
    "        return(f\"{self.month}-{self.day}-{self.year}\")\n",
    "    \n",
    "    @classmethod\n",
    "    def millenium_class(cls, month, day):\n",
    "        return cls(month, day, 2000)\n",
    "# cls виклик конструктора класу без імені\n",
    "\n",
    "    @staticmethod\n",
    "    def millenium_static(month, day):\n",
    "        return Date(month, day, 2000)\n"
   ]
  },
  {
   "cell_type": "code",
   "execution_count": null,
   "metadata": {},
   "outputs": [],
   "source": [
    "date1 = Date.millenium_class(6, 12)\n",
    "date2 = Date.millenium_static(6, 12)\n",
    "\n",
    "print(date1.display())\n",
    "print(date2.display())"
   ]
  },
  {
   "cell_type": "code",
   "execution_count": 149,
   "metadata": {},
   "outputs": [],
   "source": [
    "class DateTime(Date):\n",
    "    def display(self):\n",
    "        return(f\"{self.month}-{self.day}-{self.year} - 00:00:00PM\")"
   ]
  },
  {
   "cell_type": "code",
   "execution_count": null,
   "metadata": {},
   "outputs": [],
   "source": [
    "datetime1 = DateTime(10,10,1999)\n",
    "datetime2 = DateTime.millenium_static(10,10)\n",
    "\n",
    "print(isinstance(datetime1, DateTime))\n",
    "print(isinstance(datetime2, DateTime))\n",
    "\n",
    "print(datetime1.display())\n",
    "print(datetime2.display())"
   ]
  },
  {
   "cell_type": "code",
   "execution_count": null,
   "metadata": {},
   "outputs": [],
   "source": [
    "datetime1 = DateTime(10,10,1999)\n",
    "datetime2 = DateTime.millenium_class(10,10)\n",
    "\n",
    "print(isinstance(datetime1, DateTime))\n",
    "print(isinstance(datetime2, DateTime))\n",
    "\n",
    "print(datetime1.display())\n",
    "print(datetime2.display())"
   ]
  },
  {
   "cell_type": "markdown",
   "metadata": {},
   "source": [
    "Наслідування. Порядок розв'язання методів MRO (Method Resolution Order). "
   ]
  },
  {
   "cell_type": "code",
   "execution_count": null,
   "metadata": {},
   "outputs": [],
   "source": [
    "class Animal:\n",
    "    def bye(self):\n",
    "        print('пока-пока')\n",
    "        self.health = 0\n",
    "        \n",
    "class Carnivour: \n",
    "    def hunt(self):\n",
    "        print(\"з'їм\")\n",
    "        self.safety = 100\n",
    "        \n",
    "class Dog(Animal, Carnivour):\n",
    "    def bark(self):\n",
    "        print(\"гав-гав\")\n",
    "\n",
    "dog = Dog()\n",
    "dog.bark()\n",
    "dog.hunt()\n",
    "dog.bye()"
   ]
  },
  {
   "cell_type": "code",
   "execution_count": 159,
   "metadata": {},
   "outputs": [],
   "source": [
    "# визначимо атрибут\n",
    "# прогнозоаний результат ?"
   ]
  },
  {
   "cell_type": "code",
   "execution_count": null,
   "metadata": {},
   "outputs": [],
   "source": [
    "class Animal:\n",
    "    def set_health(self, health):\n",
    "        print(\"вcтановлено для тварин\")\n",
    "        \n",
    "class Carnivour(Animal):\n",
    "    def set_health(self, health):\n",
    "        print(\"вcтановлено для хижаків\")\n",
    "        \n",
    "class Mammal(Animal):\n",
    "    def set_health(self, health):\n",
    "        print(\"вcтановлено для теплокровних тварин\")\n",
    "        \n",
    "class Dog(Mammal, Carnivour):\n",
    "    pass\n",
    "\n",
    "dog = Dog()\n",
    "# прогнозований результат - для кого встановлено?\n",
    "dog.set_health(20)"
   ]
  },
  {
   "cell_type": "code",
   "execution_count": null,
   "metadata": {},
   "outputs": [],
   "source": [
    "class Animal:\n",
    "    def set_health(self, health):\n",
    "        print(\"вcтановлено для тварин\")\n",
    "        \n",
    "class Carnivour(Animal):\n",
    "    def set_health(self, health):\n",
    "        print(\"вcтановлено для хижаків\")\n",
    "        \n",
    "class Mammal(Animal):\n",
    "    def set_health(self, health):\n",
    "        print(\"вcтановлено для теплокровних тварин\")\n",
    "        \n",
    "class Dog(Carnivour, Mammal):\n",
    "    pass\n",
    "\n",
    "dog = Dog()\n",
    "# прогнозований результат - для кого встановлено?\n",
    "dog.set_health(10)"
   ]
  },
  {
   "cell_type": "markdown",
   "metadata": {},
   "source": [
    "### детермінований MRO"
   ]
  },
  {
   "cell_type": "markdown",
   "metadata": {},
   "source": [
    "<img src='./images/C3.png'></img>"
   ]
  },
  {
   "cell_type": "code",
   "execution_count": 164,
   "metadata": {},
   "outputs": [],
   "source": [
    "class Type(type): \n",
    "    def __repr__(cls): \n",
    "        return cls.__name__ \n",
    "class O(object, metaclass=Type): pass "
   ]
  },
  {
   "cell_type": "code",
   "execution_count": 165,
   "metadata": {},
   "outputs": [],
   "source": [
    "class A(O): pass \n",
    "class B(O): pass \n",
    "class C(O): pass \n",
    "class D(O): pass \n",
    "class E(O): pass \n",
    "class K1(A, B, C): pass\n",
    "class K2(D, B, E): pass \n",
    "class K3(D, A): pass \n",
    "class Z(K1, K2, K3): pass "
   ]
  },
  {
   "cell_type": "code",
   "execution_count": null,
   "metadata": {},
   "outputs": [],
   "source": [
    "# прогнозований результат\n",
    "Z.mro()"
   ]
  },
  {
   "cell_type": "code",
   "execution_count": null,
   "metadata": {},
   "outputs": [],
   "source": [
    "class Animal:\n",
    "    def set_health(self, health):\n",
    "        print(\"вcтановлено для тварин\")\n",
    "        \n",
    "class Carnivour(Animal):\n",
    "    def set_health(self, health):\n",
    "        print(\"вcтановлено для хижаків\")\n",
    "        \n",
    "class Mammal(Animal):\n",
    "    def set_health(self, health):\n",
    "        print(\"вcтановлено для теплокровних тварин\")\n",
    "        \n",
    "class Dog(Mammal, Carnivour):\n",
    "    def set_health(self, health):\n",
    "        Mammal.set_health(self, health)\n",
    "        Carnivour.set_health(self, health)\n",
    "        Animal.set_health(self, health)\n",
    "        print(\"вcтановлено для собак\")\n",
    "\n",
    "dog = Dog()\n",
    "# прогнозований результат - для кого встановлено?\n",
    "dog.set_health(15)"
   ]
  },
  {
   "cell_type": "code",
   "execution_count": null,
   "metadata": {},
   "outputs": [],
   "source": [
    "class Animal:\n",
    "    def set_health(self, health):\n",
    "        print(\"вcтановлено для тварин\")\n",
    "        \n",
    "class Carnivour(Animal):\n",
    "    def set_health(self, health):\n",
    "        print(\"вcтановлено для хижаків\")\n",
    "        \n",
    "class Mammal(Animal):\n",
    "    def set_health(self, health):\n",
    "        print(\"вcтановлено для теплокровних тварин\")\n",
    "        \n",
    "class Dog(Carnivour, Mammal):\n",
    "    def set_health(self, health):\n",
    "        Carnivour.set_health(self, health)\n",
    "        Mammal.set_health(self, health)      \n",
    "        Animal.set_health(self, health)\n",
    "        print(\"вcтановлено для собак\")\n",
    "\n",
    "dog = Dog()\n",
    "# прогнозований результат - для кого встановлено?\n",
    "dog.set_health(15)"
   ]
  },
  {
   "cell_type": "code",
   "execution_count": null,
   "metadata": {},
   "outputs": [],
   "source": [
    "class Animal:\n",
    "    def set_health(self, health):\n",
    "        print(\"вcтановлено для тварин\")\n",
    "        \n",
    "class Carnivour(Animal):\n",
    "    def set_health(self, health):\n",
    "        print(\"вcтановлено для хижаків\")\n",
    "        \n",
    "class Mammal(Animal):\n",
    "    def set_health(self, health):\n",
    "        print(\"вcтановлено для теплокровних тварин\")\n",
    "        \n",
    "class Dog(Carnivour, Mammal):\n",
    "    def set_health(self, health):\n",
    "        Carnivour.set_health(self, health)\n",
    "        Mammal.set_health(self, health)      \n",
    "        Animal.set_health(self, health)\n",
    "        print(\"вcтановлено для собак\")\n",
    "\n",
    "dog = Dog()\n",
    "# прогнозований результат - для кого встановлено?\n",
    "dog.set_health(15)"
   ]
  },
  {
   "cell_type": "code",
   "execution_count": null,
   "metadata": {},
   "outputs": [],
   "source": [
    "class Animal:\n",
    "    def set_health(self, health):\n",
    "        print(\"вcтановлено для тварин\")\n",
    "        \n",
    "class Carnivour(Animal):\n",
    "    def set_health(self, health):\n",
    "        Animal.set_health(self, health)\n",
    "        print(\"вcтановлено для хижаків\")\n",
    "        \n",
    "class Mammal(Animal):\n",
    "    def set_health(self, health):\n",
    "        Animal.set_health(self, health)\n",
    "        print(\"вcтановлено для теплокровних тварин\")\n",
    "        \n",
    "class Dog(Mammal, Carnivour):\n",
    "    def set_health(self, health):\n",
    "        Mammal.set_health(self, health)      \n",
    "        Carnivour.set_health(self, health)\n",
    "        print(\"вcтановлено для собак\")\n",
    "\n",
    "dog = Dog()\n",
    "# прогнозований результат - для кого встановлено?\n",
    "dog.set_health(15)\n",
    "# Що відбулось? "
   ]
  },
  {
   "cell_type": "code",
   "execution_count": null,
   "metadata": {},
   "outputs": [],
   "source": [
    "class Animal:\n",
    "    def set_health(self, health):\n",
    "        print(\"вcтановлено для тварин\")\n",
    "        \n",
    "class Carnivour(Animal):\n",
    "    def set_health(self, health):\n",
    "        Animal.set_health(self, health)\n",
    "        print(\"вcтановлено для хижаків\")\n",
    "        \n",
    "class Mammal(Animal):\n",
    "    def set_health(self, health):\n",
    "        Animal.set_health(self, health)\n",
    "        print(\"вcтановлено для теплокровних тварин\")\n",
    "        \n",
    "class Dog(Mammal, Carnivour):\n",
    "    def set_health(self, health):\n",
    "        Carnivour.set_health(self, health)\n",
    "        Mammal.set_health(self, health)\n",
    "        print(\"вcтановлено для собак\")\n",
    "\n",
    "dog = Dog()\n",
    "# прогнозований результат - для кого встановлено?\n",
    "dog.set_health(15)\n",
    "# Що відбулось? "
   ]
  },
  {
   "cell_type": "code",
   "execution_count": null,
   "metadata": {},
   "outputs": [],
   "source": [
    "# розв'язок\n",
    "class Animal:\n",
    "    def set_health(self, health):\n",
    "        print(\"вcтановлено для тварин\")\n",
    "        \n",
    "class Carnivour(Animal):\n",
    "    def set_health(self, health):\n",
    "        super().set_health(health)\n",
    "        print(\"вcтановлено для хижаків\")\n",
    "        \n",
    "class Mammal(Animal):\n",
    "    def set_health(self, health):\n",
    "        super().set_health(health)\n",
    "        print(\"вcтановлено для теплокровних тварин\")\n",
    "        \n",
    "class Dog(Mammal, Carnivour):\n",
    "    def set_health(self, health):\n",
    "        super().set_health(health)\n",
    "        print(\"вcтановлено для собак\")\n",
    "\n",
    "dog = Dog()\n",
    "# прогнозований результат - для кого встановлено?\n",
    "dog.set_health(15)\n",
    "# Що відбулось? "
   ]
  },
  {
   "cell_type": "code",
   "execution_count": null,
   "metadata": {},
   "outputs": [],
   "source": [
    "# розв'язок\n",
    "class Animal:\n",
    "    def set_health(self, health):\n",
    "        print(\"вcтановлено для тварин\")\n",
    "        \n",
    "class Carnivour(Animal):\n",
    "    def set_health(self, health):\n",
    "        super().set_health(health)\n",
    "        print(\"вcтановлено для хижаків\")\n",
    "        \n",
    "class Mammal(Animal):\n",
    "    def set_health(self, health):\n",
    "        super().set_health(health)\n",
    "        print(\"вcтановлено для теплокровних тварин\")\n",
    "        \n",
    "class Dog(Carnivour, Mammal):\n",
    "    def set_health(self, health):\n",
    "        super().set_health(health)\n",
    "        print(\"вcтановлено для собак\")\n",
    "\n",
    "dog = Dog()\n",
    "# прогнозований результат - для кого встановлено?\n",
    "dog.set_health(15)\n",
    "# Що відбулось? "
   ]
  },
  {
   "cell_type": "code",
   "execution_count": 172,
   "metadata": {},
   "outputs": [],
   "source": [
    "# функція super для виклику конструктора базового класу\n",
    "class Animal:\n",
    "    \n",
    "    def __init__(self):\n",
    "        set.health = 100\n",
    "        \n",
    "    def harm(self, damage):\n",
    "        set.health -=damage\n",
    "        \n",
    "class Carnivour(Animal):\n",
    "    \n",
    "    def __init__(self):\n",
    "#        super().__init__()\n",
    "        set.legs = 4"
   ]
  },
  {
   "cell_type": "code",
   "execution_count": null,
   "metadata": {},
   "outputs": [],
   "source": [
    "c = Carnivour()\n",
    "c.harm(20)\n",
    "\n",
    "# прогнозований результат \n",
    "print(c.health)"
   ]
  },
  {
   "cell_type": "code",
   "execution_count": 173,
   "metadata": {},
   "outputs": [],
   "source": [
    "# mixin\n",
    "class Vehicle: \n",
    "    def __init__(self, position):\n",
    "        self.position = position\n",
    "    def travel(self, destination):\n",
    "        route = calculate_route(source = self.position, to = destination)\n",
    "        self.move_along(route)\n",
    "    def calculate_route(self, source, to):\n",
    "        return 1100\n",
    "    def move_along(self, route):\n",
    "        print(\"Поїхали\")\n",
    "class Car(Vehicle):\n",
    "    pass\n",
    "class Airplane(Vehicle):\n",
    "    pass"
   ]
  },
  {
   "cell_type": "code",
   "execution_count": 174,
   "metadata": {},
   "outputs": [],
   "source": [
    "class RadioMixin:\n",
    "    def __init__(self):\n",
    "        self.radio = Radio()\n",
    "    def turn_on(self, station):\n",
    "        self.radio.set_station(station)\n",
    "        self.radio.play()\n",
    "class Radio:\n",
    "    def set_station(self, station):\n",
    "        self.station = station\n",
    "    def play(self):\n",
    "        print(f\"Музика грає, радіостанція : {self.station}\")\n",
    "class Car(Vehicle, RadioMixin):\n",
    "    def __init__(self):\n",
    "        Vehicle.__init__(self, (20, 30))\n",
    "        RadioMixin.__init__(self)        "
   ]
  },
  {
   "cell_type": "code",
   "execution_count": null,
   "metadata": {},
   "outputs": [],
   "source": [
    "car = Car()\n",
    "car.turn_on(\"Радіо Україна\")"
   ]
  },
  {
   "cell_type": "code",
   "execution_count": null,
   "metadata": {},
   "outputs": [],
   "source": [
    "car.move_along(\"Київ\")"
   ]
  },
  {
   "cell_type": "code",
   "execution_count": null,
   "metadata": {},
   "outputs": [],
   "source": [
    "car.calculate_route(\"Київ\" , \"Харків\")"
   ]
  },
  {
   "cell_type": "code",
   "execution_count": 143,
   "metadata": {},
   "outputs": [],
   "source": [
    "# інтроспекція\n",
    "class ToDictMixin():\n",
    "    def to_dict(self):\n",
    "        return self._traverse_dict(self.__dict__)\n",
    "    def _traverse_dict(self, instance_dict):\n",
    "        output = {}\n",
    "        for key, value in instance_dict.items():\n",
    "            output[key] = self._traverse(key, value)\n",
    "        return output\n",
    "    def _traverse(self, key, value):\n",
    "        if isinstance(value, ToDictMixin):\n",
    "            return value.to_dict()\n",
    "        elif isinstance(value, dict):\n",
    "            return self._traverse_dict(value)\n",
    "        elif isinstance(value, list):\n",
    "            return [self._traverse(key, i) for i in value]\n",
    "        elif hasattr(value, '__dict__'):\n",
    "            return self._traverse_dict(value.__dict__)\n",
    "        else:\n",
    "            return value"
   ]
  },
  {
   "cell_type": "code",
   "execution_count": null,
   "metadata": {},
   "outputs": [],
   "source": []
  },
  {
   "cell_type": "code",
   "execution_count": 144,
   "metadata": {},
   "outputs": [],
   "source": [
    "class BinaryTree(ToDictMixin):\n",
    "    def __init__(self, value, left = None, right = None):\n",
    "        self.value = value\n",
    "        self.left = left\n",
    "        self.right = right"
   ]
  },
  {
   "cell_type": "markdown",
   "metadata": {},
   "source": [
    "<img src='./images/BT.png'></img>"
   ]
  },
  {
   "cell_type": "code",
   "execution_count": null,
   "metadata": {},
   "outputs": [],
   "source": [
    "tree = BinaryTree(15,\n",
    "                 left = BinaryTree(21, left = BinaryTree(38), right = BinaryTree(42)), \n",
    "                 right = BinaryTree(25, left = BinaryTree(35), right = BinaryTree(45)))\n",
    "print(tree.to_dict())"
   ]
  }
 ],
 "metadata": {
  "kernelspec": {
   "display_name": "Python 3",
   "language": "python",
   "name": "python3"
  },
  "language_info": {
   "codemirror_mode": {
    "name": "ipython",
    "version": 3
   },
   "file_extension": ".py",
   "mimetype": "text/x-python",
   "name": "python",
   "nbconvert_exporter": "python",
   "pygments_lexer": "ipython3",
   "version": "3.7.6"
  }
 },
 "nbformat": 4,
 "nbformat_minor": 4
}
