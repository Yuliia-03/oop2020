{
 "cells": [
  {
   "cell_type": "markdown",
   "metadata": {},
   "source": [
    "##  ІЗ_8\n",
    "\n",
    "## Cтворення власного сайту-візитки (Localhost)\n",
    "    1. Створити власний сайт-візитку з використанням класу Flask пакету flask на Localhost на основі наданого стартового    коду, (див. лекцію). \n",
    "    2. Розгорнути статичний сайт в середовищі Cloud9 на власному навчальному акаунті.                           (Інструкція: https://aws.amazon.com/ru/getting-started/hands-on/build-modern-app-fargate-lambda-dynamodb-python/module-one/) \n",
    "    \n",
    "    3. Додаткові бали (5): розгорнути власний сайт-візитку із використанням S3 у консолі Cloud9. \n",
    "    "
   ]
  },
  {
   "cell_type": "code",
   "execution_count": null,
   "metadata": {},
   "outputs": [],
   "source": []
  }
 ],
 "metadata": {
  "kernelspec": {
   "display_name": "Python 3",
   "language": "python",
   "name": "python3"
  },
  "language_info": {
   "codemirror_mode": {
    "name": "ipython",
    "version": 3
   },
   "file_extension": ".py",
   "mimetype": "text/x-python",
   "name": "python",
   "nbconvert_exporter": "python",
   "pygments_lexer": "ipython3",
   "version": "3.7.6"
  }
 },
 "nbformat": 4,
 "nbformat_minor": 4
}
