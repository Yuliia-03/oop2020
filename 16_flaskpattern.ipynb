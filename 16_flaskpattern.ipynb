{
 "cells": [
  {
   "cell_type": "markdown",
   "metadata": {},
   "source": [
    "## Частина І. \n",
    "    (До І-ої частини ІЗ_8)"
   ]
  },
  {
   "cell_type": "code",
   "execution_count": null,
   "metadata": {},
   "outputs": [],
   "source": [
    "# Flask \n",
    "!pip list"
   ]
  },
  {
   "cell_type": "code",
   "execution_count": null,
   "metadata": {},
   "outputs": [],
   "source": [
    "!pip show Flask"
   ]
  },
  {
   "cell_type": "code",
   "execution_count": null,
   "metadata": {},
   "outputs": [],
   "source": [
    "!pip show werkzeug"
   ]
  },
  {
   "cell_type": "code",
   "execution_count": null,
   "metadata": {},
   "outputs": [],
   "source": [
    "!pip show jinja2"
   ]
  },
  {
   "cell_type": "code",
   "execution_count": null,
   "metadata": {},
   "outputs": [],
   "source": [
    "from flask import Flask \n",
    "app = Flask(__name__)\n",
    "\n",
    "@app.route('/')\n",
    "def index():\n",
    "    return \"Привіт світ!\"\n",
    "\n",
    "if __name__ == \"__main__\":\n",
    "    app.run(port=8000)"
   ]
  },
  {
   "cell_type": "code",
   "execution_count": null,
   "metadata": {},
   "outputs": [],
   "source": [
    "from flask import Flask, render_template\n",
    "\n",
    "app = Flask(__name__)\n",
    "\n",
    "@app.route('/')\n",
    "def index():\n",
    "    return \"Привіт світ!\"\n",
    "\n",
    "@app.route('/blog/post/')\n",
    "def post():\n",
    "    return render_template('post.html', post_content='Привіт світ! - (це інформація із шаблону)!')\n",
    "if __name__ == '__main__':\n",
    "    app.run(port=8000, debug=False)"
   ]
  },
  {
   "cell_type": "code",
   "execution_count": null,
   "metadata": {},
   "outputs": [],
   "source": [
    "from jinja2 import Template\n",
    "template = Template('Привіт {{ name }}!')\n",
    "template.render(name='Користувач пакету flask')"
   ]
  },
  {
   "cell_type": "code",
   "execution_count": 2,
   "metadata": {},
   "outputs": [],
   "source": [
    "from flask import Flask \n",
    "app = Flask(__name__)\n",
    "def get_methods(object, spacing=20): \n",
    "  methodList = [] \n",
    "  for method_name in dir(object): \n",
    "    try: \n",
    "        if callable(getattr(object, method_name)): \n",
    "            methodList.append(str(method_name)) \n",
    "    except: \n",
    "        methodList.append(str(method_name)) \n",
    "  processFunc = (lambda s: ' '.join(s.split())) or (lambda s: s) \n",
    "  for method in methodList: \n",
    "    try: \n",
    "        print(str(method.ljust(spacing)) + ' ' + \n",
    "              processFunc(str(getattr(object, method).__doc__)[0:90])) \n",
    "    except: \n",
    "        print(method.ljust(spacing) + ' ' + ' getattr() failed') "
   ]
  },
  {
   "cell_type": "code",
   "execution_count": 4,
   "metadata": {},
   "outputs": [],
   "source": [
    "from flask import Flask \n",
    "app = Flask(__name__)\n",
    "def get_methods(object, spacing=20): \n",
    "  methodList = [] \n",
    "  for method_name in dir(object): \n",
    "    try: \n",
    "        if callable(getattr(object, method_name)): \n",
    "            methodList.append(str(method_name)) \n",
    "    except: \n",
    "        methodList.append(str(method_name)) \n",
    "  processFunc = (lambda s: ' '.join(s.split())) or (lambda s: s) \n",
    "  for method in methodList: \n",
    "    try: \n",
    "        print(str(method.ljust(spacing)) + ' ' + \n",
    "              processFunc(str(getattr(object, method).__doc__)[0:90])) \n",
    "    except: \n",
    "        print(method.ljust(spacing) + ' ' + ' getattr() failed') \n"
   ]
  },
  {
   "cell_type": "code",
   "execution_count": null,
   "metadata": {},
   "outputs": [],
   "source": [
    "dir(app)"
   ]
  },
  {
   "cell_type": "code",
   "execution_count": null,
   "metadata": {},
   "outputs": [],
   "source": [
    "get_methods(app)"
   ]
  },
  {
   "cell_type": "markdown",
   "metadata": {},
   "source": [
    "## Частина ІІ.\n",
    "    \n",
    "    (До ІІ-ої частини ІЗ_8)\n",
    "\n",
    "    Посилання: \n",
    "    1. https://aws.amazon.com/ru/getting-started/hands-on/build-modern-app-fargate-lambda-dynamodb-python/\n",
    "    2. https://aws.amazon.com/ru/getting-started/hands-on/build-modern-app-fargate-lambda-dynamodb-python/module-one/\n",
    "    \n",
    "    3. Додаткові бали: \n",
    "        https://aws.amazon.com/ru/getting-started/hands-on/build-modern-app-fargate-lambda-dynamodb-python/module-two/\n",
    "        https://aws.amazon.com/ru/getting-started/hands-on/build-modern-app-fargate-lambda-dynamodb-python/module-three/\n",
    "        https://aws.amazon.com/ru/getting-started/hands-on/build-modern-app-fargate-lambda-dynamodb-python/module-four/\n",
    "        https://aws.amazon.com/ru/getting-started/hands-on/build-modern-app-fargate-lambda-dynamodb-python/module-five/"
   ]
  },
  {
   "cell_type": "markdown",
   "metadata": {},
   "source": [
    "# результат виконання другої частини індивідуального завдання \n",
    "    http://NameOfBucket.s3-website-us-east-1.amazonaws.com/"
   ]
  },
  {
   "cell_type": "markdown",
   "metadata": {},
   "source": [
    "<img src='./images/mysfits.png'></img>"
   ]
  },
  {
   "cell_type": "code",
   "execution_count": null,
   "metadata": {},
   "outputs": [],
   "source": []
  }
 ],
 "metadata": {
  "kernelspec": {
   "display_name": "Python 3",
   "language": "python",
   "name": "python3"
  },
  "language_info": {
   "codemirror_mode": {
    "name": "ipython",
    "version": 3
   },
   "file_extension": ".py",
   "mimetype": "text/x-python",
   "name": "python",
   "nbconvert_exporter": "python",
   "pygments_lexer": "ipython3",
   "version": "3.7.6"
  }
 },
 "nbformat": 4,
 "nbformat_minor": 4
}
