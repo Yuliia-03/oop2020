{
 "cells": [
  {
   "cell_type": "markdown",
   "metadata": {},
   "source": [
    "### ISP, ABC"
   ]
  },
  {
   "cell_type": "code",
   "execution_count": 38,
   "metadata": {},
   "outputs": [],
   "source": [
    "# створення екземпляру без реалізації методу базового класу\n",
    "class Car:\n",
    "\n",
    "    def check_engine(self):\n",
    "        raise NotImplementedError(\"немає реалізації методу check_engine\")\n",
    "\n",
    "class BMW(Car):\n",
    "    pass"
   ]
  },
  {
   "cell_type": "code",
   "execution_count": 39,
   "metadata": {},
   "outputs": [],
   "source": [
    "mycar = BMW()"
   ]
  },
  {
   "cell_type": "code",
   "execution_count": null,
   "metadata": {},
   "outputs": [],
   "source": [
    "mycar.check_engine() # переривання згідно виключення NotImplementedError"
   ]
  },
  {
   "cell_type": "code",
   "execution_count": 41,
   "metadata": {},
   "outputs": [],
   "source": [
    "from abc import ABCMeta, abstractmethod\n",
    "\n",
    "class AbstractClass(object):\n",
    "    __metaclass__ = ABCMeta\n",
    "# магічний метод metaclass, як атрибут абстрактного класу, повинен бути завжди представлений \n",
    "\n",
    "   # декоратор abstractmethod встановлює, що метод не визначено \n",
    "    @abstractmethod \n",
    "    def virtual_method_subclasses_must_define(self):\n",
    "       # У випадку відсутності реалізації методу-повернення `None`\n",
    "       pass"
   ]
  },
  {
   "cell_type": "code",
   "execution_count": 42,
   "metadata": {},
   "outputs": [],
   "source": [
    "class Subclass(AbstractClass):\n",
    "    def interface_method_subclasses_must_define(self):\n",
    "        return print(\"Перевизначення методу базового класу\")"
   ]
  },
  {
   "cell_type": "code",
   "execution_count": 43,
   "metadata": {},
   "outputs": [],
   "source": [
    "myclass = Subclass()"
   ]
  },
  {
   "cell_type": "code",
   "execution_count": null,
   "metadata": {},
   "outputs": [],
   "source": [
    "myclass.interface_method_subclasses_must_define()"
   ]
  },
  {
   "cell_type": "code",
   "execution_count": 62,
   "metadata": {},
   "outputs": [],
   "source": [
    "class Car:\n",
    "    def check_engine(self):\n",
    "        raise NotImplementedError(\"немає реалізації методу check_engine\")\n",
    "\n",
    "    def check_carbody(self):\n",
    "        raise NotImplementedError(\"немає реалізації методу check_carbody\")\n",
    "\n",
    "class MyCar(Car):\n",
    "    def check_carbody(self):\n",
    "        return \"контроль ***кузова*** автомобіля проведено\""
   ]
  },
  {
   "cell_type": "markdown",
   "metadata": {},
   "source": [
    "    def check_engine(self):\n",
    "        return \"контроль ***двигуна*** автомобіля проведено\""
   ]
  },
  {
   "cell_type": "code",
   "execution_count": 63,
   "metadata": {},
   "outputs": [],
   "source": [
    "myauto = MyCar()"
   ]
  },
  {
   "cell_type": "code",
   "execution_count": null,
   "metadata": {},
   "outputs": [],
   "source": [
    "myauto.check_engine() "
   ]
  },
  {
   "cell_type": "code",
   "execution_count": null,
   "metadata": {},
   "outputs": [],
   "source": [
    "myauto.check_carbody() "
   ]
  },
  {
   "cell_type": "code",
   "execution_count": 67,
   "metadata": {},
   "outputs": [],
   "source": [
    "from abc import ABCMeta, abstractmethod\n",
    "\n",
    "class Car(metaclass=ABCMeta):\n",
    "    @abstractmethod\n",
    "    def check_engine(self):\n",
    "        pass \n",
    "    \n",
    "    @abstractmethod\n",
    "    def check_carbody(self):\n",
    "        pass\n",
    "\n",
    "class MyCar(Car):\n",
    "    def check_carbody(self):\n",
    "        return \"контроль ***кузова*** автомобіля проведено\""
   ]
  },
  {
   "cell_type": "code",
   "execution_count": null,
   "metadata": {},
   "outputs": [],
   "source": [
    "myauto = MyCar()"
   ]
  },
  {
   "cell_type": "code",
   "execution_count": 70,
   "metadata": {},
   "outputs": [],
   "source": [
    "from abc import ABCMeta, abstractmethod\n",
    "\n",
    "class Car(metaclass=ABCMeta):\n",
    "    @abstractmethod\n",
    "    def check_engine(self):\n",
    "        pass \n",
    "    \n",
    "    @abstractmethod\n",
    "    def check_carbody(self):\n",
    "        pass\n",
    "\n",
    "class MyCar(Car):\n",
    "    \n",
    "    def check_engine(self):\n",
    "        return \"контроль ***двигуна*** автомобіля проведено\"\n",
    "    \n",
    "    def check_carbody(self):\n",
    "        return \"контроль ***кузова*** автомобіля проведено\""
   ]
  },
  {
   "cell_type": "code",
   "execution_count": 71,
   "metadata": {},
   "outputs": [],
   "source": [
    "myauto = MyCar()"
   ]
  },
  {
   "cell_type": "code",
   "execution_count": null,
   "metadata": {},
   "outputs": [],
   "source": [
    "myauto.check_carbody() "
   ]
  },
  {
   "cell_type": "code",
   "execution_count": null,
   "metadata": {},
   "outputs": [],
   "source": [
    "myauto.check_engine()"
   ]
  },
  {
   "cell_type": "code",
   "execution_count": 76,
   "metadata": {},
   "outputs": [],
   "source": [
    "# це не абстрактний клас. Немає вимог уточнення методу для успадкованого класу  \n",
    "class AbstractClass:\n",
    "    \n",
    "    def do_something(self):\n",
    "        pass\n",
    "    \n",
    "class B(AbstractClass):\n",
    "    pass"
   ]
  },
  {
   "cell_type": "code",
   "execution_count": 77,
   "metadata": {},
   "outputs": [],
   "source": [
    "a = AbstractClass()\n",
    "b = B()"
   ]
  },
  {
   "cell_type": "code",
   "execution_count": 78,
   "metadata": {},
   "outputs": [],
   "source": [
    "a.do_something()"
   ]
  },
  {
   "cell_type": "code",
   "execution_count": 79,
   "metadata": {},
   "outputs": [],
   "source": [
    "b.do_something()"
   ]
  },
  {
   "cell_type": "code",
   "execution_count": null,
   "metadata": {},
   "outputs": [],
   "source": [
    "isinstance(a, AbstractClass)"
   ]
  },
  {
   "cell_type": "code",
   "execution_count": 96,
   "metadata": {},
   "outputs": [],
   "source": [
    "from abc import ABC, abstractmethod\n",
    " \n",
    "class AbstractClassExample(ABC):\n",
    " \n",
    "    def __init__(self, value):\n",
    "        self.value = value\n",
    "        super().__init__()\n",
    "    \n",
    "    @abstractmethod\n",
    "    def do_something(self):\n",
    "        pass"
   ]
  },
  {
   "cell_type": "code",
   "execution_count": null,
   "metadata": {},
   "outputs": [],
   "source": [
    "# успадкований клас\n",
    "class DoAddAny77(AbstractClassExample):\n",
    "\n",
    "    def do_something(self):\n",
    "        return self.value + 77\n",
    "    \n",
    "class DoMulAny88(AbstractClassExample):\n",
    "  \n",
    "    pass\n",
    "\n",
    "#    прогнозований результат\n",
    "\n",
    "x = DoAddAny77(10)\n",
    "y = DoMulAny88(10)\n",
    "\n",
    "print(x.do_something())\n",
    "print(y.do_something())"
   ]
  },
  {
   "cell_type": "code",
   "execution_count": null,
   "metadata": {},
   "outputs": [],
   "source": [
    "from abc import ABC, abstractmethod\n",
    "\n",
    "class DoAddAny77(AbstractClassExample):\n",
    "\n",
    "    def do_something(self):\n",
    "        return self.value + 77\n",
    "    \n",
    "class DoMulAny88(AbstractClassExample):\n",
    "   \n",
    "    def do_something(self):\n",
    "        return self.value * 88\n",
    "    \n",
    "x = DoAddAny77(10)\n",
    "y = DoMulAny88(10)\n",
    "\n",
    "print(x.do_something())\n",
    "print(y.do_something())"
   ]
  },
  {
   "cell_type": "code",
   "execution_count": null,
   "metadata": {},
   "outputs": [],
   "source": [
    "from abc import ABC, abstractmethod\n",
    " \n",
    "class AbstractClassExample(ABC):\n",
    "    \n",
    "    @abstractmethod\n",
    "    def do_something(self):\n",
    "        print(\"Реалізація методу базового класу!\")\n",
    "        \n",
    "class AnotherSubclass(AbstractClassExample):\n",
    "\n",
    "    def do_something(self):\n",
    "        super().do_something()\n",
    "        print(\"Перевизначення методу базового класу в успадкованому класі\")\n",
    "        \n",
    "x = AnotherSubclass()\n",
    "x.do_something()"
   ]
  },
  {
   "cell_type": "code",
   "execution_count": 113,
   "metadata": {},
   "outputs": [],
   "source": [
    "#  \n",
    "from abc import ABC, abstractmethod, abstractproperty\n",
    "\n",
    "class SerialPort(ABC):\n",
    "    \n",
    "    @abstractmethod\n",
    "    def read(self):\n",
    "        pass\n",
    "    \n",
    "    @abstractmethod\n",
    "    def write(self):\n",
    "        pass\n",
    "\n",
    "class COM(SerialPort):\n",
    "    def read(self):\n",
    "        return \"читання інформації з СОМ порту\"\n",
    "    def write(self):\n",
    "        pass"
   ]
  },
  {
   "cell_type": "code",
   "execution_count": 114,
   "metadata": {},
   "outputs": [],
   "source": [
    "mycom = COM()"
   ]
  },
  {
   "cell_type": "code",
   "execution_count": null,
   "metadata": {},
   "outputs": [],
   "source": [
    "mycom.read()"
   ]
  },
  {
   "cell_type": "code",
   "execution_count": 116,
   "metadata": {},
   "outputs": [],
   "source": [
    "mycom.write()"
   ]
  },
  {
   "cell_type": "code",
   "execution_count": 151,
   "metadata": {},
   "outputs": [],
   "source": [
    "# Множинне наслідування від абстрактних класів:\n",
    "\n",
    "from abc import ABC, abstractmethod, abstractproperty\n",
    "\n",
    "class Charger(ABC):\n",
    "    @abstractmethod\n",
    "    def charge(self):\n",
    "        pass\n",
    "\n",
    "class USB(SerialPort, Charger):\n",
    "    def read(self):\n",
    "        return \"\"\n",
    "    def write(self):\n",
    "         pass\n",
    "#    def charge(self):\n",
    "#         print('Charging')"
   ]
  },
  {
   "cell_type": "code",
   "execution_count": null,
   "metadata": {},
   "outputs": [],
   "source": [
    "usb = USB()"
   ]
  },
  {
   "cell_type": "code",
   "execution_count": null,
   "metadata": {},
   "outputs": [],
   "source": [
    "usb.charge()"
   ]
  },
  {
   "cell_type": "code",
   "execution_count": 155,
   "metadata": {},
   "outputs": [],
   "source": [
    "# Множинне наслідування від абстрактних класів:\n",
    "\n",
    "from abc import ABC, abstractmethod, abstractproperty\n",
    "\n",
    "class Charger(ABC):\n",
    "    @abstractmethod\n",
    "    def charge(self):\n",
    "        pass\n",
    "\n",
    "class USB(SerialPort, Charger):\n",
    "    def read(self):\n",
    "        return \"\"\n",
    "    def write(self):\n",
    "         pass\n",
    "    def charge(self):\n",
    "         print('Поставлено на зарядку')"
   ]
  },
  {
   "cell_type": "code",
   "execution_count": 156,
   "metadata": {},
   "outputs": [],
   "source": [
    "usb = USB()"
   ]
  },
  {
   "cell_type": "code",
   "execution_count": null,
   "metadata": {},
   "outputs": [],
   "source": [
    "usb.read()"
   ]
  },
  {
   "cell_type": "code",
   "execution_count": null,
   "metadata": {},
   "outputs": [],
   "source": [
    "usb.charge()"
   ]
  },
  {
   "cell_type": "code",
   "execution_count": null,
   "metadata": {},
   "outputs": [],
   "source": [
    "from abc import ABCMeta, abstractmethod\n",
    "\n",
    "class Vehicle(object):\n",
    "    __metaclass__ = ABCMeta\n",
    "\n",
    "    @abstractmethod\n",
    "    def change_gear(self):\n",
    "        pass\n",
    "\n",
    "    @abstractmethod\n",
    "    def start_engine(self):\n",
    "        pass\n",
    "\n",
    "class Car(Vehicle):\n",
    "\n",
    "    def __init__(self, make, model, color):\n",
    "        self.make = make\n",
    "        self.model = model\n",
    "        self.color = color\n",
    "\n",
    "    def change_gear(self):\n",
    "        print(\"Переключення передачі\")\n",
    "\n",
    "    def start_engine(self):\n",
    "        print(\"Заміна двигуна авто\")\n",
    "\n",
    "\n",
    "car = Car(\"Мерседес\", \"GLB\", \"кухонної стільниці\")\n",
    "print(isinstance(car, Vehicle))"
   ]
  },
  {
   "cell_type": "code",
   "execution_count": null,
   "metadata": {},
   "outputs": [],
   "source": [
    "car.make"
   ]
  },
  {
   "cell_type": "code",
   "execution_count": null,
   "metadata": {},
   "outputs": [],
   "source": [
    "car.model"
   ]
  },
  {
   "cell_type": "raw",
   "metadata": {},
   "source": [
    "car.change_gear() "
   ]
  }
 ],
 "metadata": {
  "kernelspec": {
   "display_name": "Python 3",
   "language": "python",
   "name": "python3"
  },
  "language_info": {
   "codemirror_mode": {
    "name": "ipython",
    "version": 3
   },
   "file_extension": ".py",
   "mimetype": "text/x-python",
   "name": "python",
   "nbconvert_exporter": "python",
   "pygments_lexer": "ipython3",
   "version": "3.7.6"
  }
 },
 "nbformat": 4,
 "nbformat_minor": 4
}
